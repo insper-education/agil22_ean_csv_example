{
 "cells": [
  {
   "cell_type": "code",
   "execution_count": 1,
   "id": "9ad3f8c7-60c4-4402-bb8b-182ce75fc75a",
   "metadata": {},
   "outputs": [],
   "source": [
    "import numpy as np\n",
    "import pandas as pd\n"
   ]
  },
  {
   "cell_type": "markdown",
   "id": "66603b77-9a96-4662-bdec-66c70d8c3b26",
   "metadata": {},
   "source": [
    "## Leitura de um arquivo .csv"
   ]
  },
  {
   "cell_type": "markdown",
   "id": "ae445e9a-60c2-4cfe-84b3-229461b2b091",
   "metadata": {},
   "source": [
    "Os arquivos CSV (comma separated values) têm os valores separados por vírgula e são um formato aberto bastante comum para troca de dados.\n",
    "\n",
    "Os dados com que vamos trabalhar vieram de um ![desafio do Kaggle](https://www.kaggle.com/datasets/rtatman/universal-product-code-database?resource=download).  \n",
    "\n"
   ]
  },
  {
   "cell_type": "code",
   "execution_count": 2,
   "id": "eb43ee8b-a4c9-4063-8fab-9ad528112eb9",
   "metadata": {},
   "outputs": [],
   "source": [
    "data = pd.read_csv(\"produtos.csv\")"
   ]
  },
  {
   "cell_type": "code",
   "execution_count": 3,
   "id": "5b0593f6-fa13-4e64-8e17-07d4a6b6135d",
   "metadata": {},
   "outputs": [
    {
     "data": {
      "text/html": [
       "<div>\n",
       "<style scoped>\n",
       "    .dataframe tbody tr th:only-of-type {\n",
       "        vertical-align: middle;\n",
       "    }\n",
       "\n",
       "    .dataframe tbody tr th {\n",
       "        vertical-align: top;\n",
       "    }\n",
       "\n",
       "    .dataframe thead th {\n",
       "        text-align: right;\n",
       "    }\n",
       "</style>\n",
       "<table border=\"1\" class=\"dataframe\">\n",
       "  <thead>\n",
       "    <tr style=\"text-align: right;\">\n",
       "      <th></th>\n",
       "      <th>Unnamed: 0</th>\n",
       "      <th>ean</th>\n",
       "      <th>name</th>\n",
       "    </tr>\n",
       "  </thead>\n",
       "  <tbody>\n",
       "    <tr>\n",
       "      <th>0</th>\n",
       "      <td>907948</td>\n",
       "      <td>83978804665</td>\n",
       "      <td>WEISER LOCK LA535 V3 K3 RH M VALENCIA LOCK</td>\n",
       "    </tr>\n",
       "    <tr>\n",
       "      <th>1</th>\n",
       "      <td>905632</td>\n",
       "      <td>84380960857</td>\n",
       "      <td>CHARLES JACQUIN ET CIE INC. 16 FL CHAMBORD RSP...</td>\n",
       "    </tr>\n",
       "    <tr>\n",
       "      <th>2</th>\n",
       "      <td>906045</td>\n",
       "      <td>84296402755</td>\n",
       "      <td>UAV CORPORATION DVD Ginger In The Morning</td>\n",
       "    </tr>\n",
       "    <tr>\n",
       "      <th>3</th>\n",
       "      <td>266115</td>\n",
       "      <td>681131928328</td>\n",
       "      <td>equate</td>\n",
       "    </tr>\n",
       "    <tr>\n",
       "      <th>4</th>\n",
       "      <td>955499</td>\n",
       "      <td>75992723725</td>\n",
       "      <td>WARNER BROS. RECORDS, INC. CD SINATRA, FRANK -...</td>\n",
       "    </tr>\n",
       "    <tr>\n",
       "      <th>...</th>\n",
       "      <td>...</td>\n",
       "      <td>...</td>\n",
       "      <td>...</td>\n",
       "    </tr>\n",
       "    <tr>\n",
       "      <th>49995</th>\n",
       "      <td>825450</td>\n",
       "      <td>645512320408</td>\n",
       "      <td>RMM CORPORATION 99.99 Vector High Pressure Washer</td>\n",
       "    </tr>\n",
       "    <tr>\n",
       "      <th>49996</th>\n",
       "      <td>249873</td>\n",
       "      <td>1114111411149</td>\n",
       "      <td>1\" 1/4 lb socket</td>\n",
       "    </tr>\n",
       "    <tr>\n",
       "      <th>49997</th>\n",
       "      <td>350875</td>\n",
       "      <td>669198229008</td>\n",
       "      <td>DVD YUKIKAZE</td>\n",
       "    </tr>\n",
       "    <tr>\n",
       "      <th>49998</th>\n",
       "      <td>134737</td>\n",
       "      <td>4850000955</td>\n",
       "      <td>@TROPCAN 64OZ HEALTHY HEART</td>\n",
       "    </tr>\n",
       "    <tr>\n",
       "      <th>49999</th>\n",
       "      <td>505698</td>\n",
       "      <td>706532974245</td>\n",
       "      <td>PET SELECT 1 ct PET SELECT DELUXE DOG CRATE</td>\n",
       "    </tr>\n",
       "  </tbody>\n",
       "</table>\n",
       "<p>50000 rows × 3 columns</p>\n",
       "</div>"
      ],
      "text/plain": [
       "       Unnamed: 0            ean  \\\n",
       "0          907948    83978804665   \n",
       "1          905632    84380960857   \n",
       "2          906045    84296402755   \n",
       "3          266115   681131928328   \n",
       "4          955499    75992723725   \n",
       "...           ...            ...   \n",
       "49995      825450   645512320408   \n",
       "49996      249873  1114111411149   \n",
       "49997      350875   669198229008   \n",
       "49998      134737     4850000955   \n",
       "49999      505698   706532974245   \n",
       "\n",
       "                                                    name  \n",
       "0             WEISER LOCK LA535 V3 K3 RH M VALENCIA LOCK  \n",
       "1      CHARLES JACQUIN ET CIE INC. 16 FL CHAMBORD RSP...  \n",
       "2              UAV CORPORATION DVD Ginger In The Morning  \n",
       "3                                                 equate  \n",
       "4      WARNER BROS. RECORDS, INC. CD SINATRA, FRANK -...  \n",
       "...                                                  ...  \n",
       "49995  RMM CORPORATION 99.99 Vector High Pressure Washer  \n",
       "49996                                   1\" 1/4 lb socket  \n",
       "49997                                       DVD YUKIKAZE  \n",
       "49998                        @TROPCAN 64OZ HEALTHY HEART  \n",
       "49999        PET SELECT 1 ct PET SELECT DELUXE DOG CRATE  \n",
       "\n",
       "[50000 rows x 3 columns]"
      ]
     },
     "execution_count": 3,
     "metadata": {},
     "output_type": "execute_result"
    }
   ],
   "source": [
    "data"
   ]
  },
  {
   "cell_type": "markdown",
   "id": "7851348f-a28a-4281-b8e1-daa3510ded90",
   "metadata": {},
   "source": [
    "A coluna \"Unnamed: 0\" era o ID antigo dos dados e agora é desnecessária. Vamos manter todas as linhas, mas apenas estas 2 colunas"
   ]
  },
  {
   "cell_type": "code",
   "execution_count": 12,
   "id": "15d348c9-c638-4efd-94c2-1f7a73adf29a",
   "metadata": {},
   "outputs": [],
   "source": [
    "dataframe = data.loc[:,(\"ean\", \"name\")]"
   ]
  },
  {
   "cell_type": "code",
   "execution_count": 13,
   "id": "def011f7-562e-4c62-86be-14bad3afca8b",
   "metadata": {},
   "outputs": [
    {
     "data": {
      "text/html": [
       "<div>\n",
       "<style scoped>\n",
       "    .dataframe tbody tr th:only-of-type {\n",
       "        vertical-align: middle;\n",
       "    }\n",
       "\n",
       "    .dataframe tbody tr th {\n",
       "        vertical-align: top;\n",
       "    }\n",
       "\n",
       "    .dataframe thead th {\n",
       "        text-align: right;\n",
       "    }\n",
       "</style>\n",
       "<table border=\"1\" class=\"dataframe\">\n",
       "  <thead>\n",
       "    <tr style=\"text-align: right;\">\n",
       "      <th></th>\n",
       "      <th>ean</th>\n",
       "      <th>name</th>\n",
       "    </tr>\n",
       "  </thead>\n",
       "  <tbody>\n",
       "    <tr>\n",
       "      <th>0</th>\n",
       "      <td>83978804665</td>\n",
       "      <td>WEISER LOCK LA535 V3 K3 RH M VALENCIA LOCK</td>\n",
       "    </tr>\n",
       "    <tr>\n",
       "      <th>1</th>\n",
       "      <td>84380960857</td>\n",
       "      <td>CHARLES JACQUIN ET CIE INC. 16 FL CHAMBORD RSP...</td>\n",
       "    </tr>\n",
       "    <tr>\n",
       "      <th>2</th>\n",
       "      <td>84296402755</td>\n",
       "      <td>UAV CORPORATION DVD Ginger In The Morning</td>\n",
       "    </tr>\n",
       "    <tr>\n",
       "      <th>3</th>\n",
       "      <td>681131928328</td>\n",
       "      <td>equate</td>\n",
       "    </tr>\n",
       "    <tr>\n",
       "      <th>4</th>\n",
       "      <td>75992723725</td>\n",
       "      <td>WARNER BROS. RECORDS, INC. CD SINATRA, FRANK -...</td>\n",
       "    </tr>\n",
       "    <tr>\n",
       "      <th>...</th>\n",
       "      <td>...</td>\n",
       "      <td>...</td>\n",
       "    </tr>\n",
       "    <tr>\n",
       "      <th>49995</th>\n",
       "      <td>645512320408</td>\n",
       "      <td>RMM CORPORATION 99.99 Vector High Pressure Washer</td>\n",
       "    </tr>\n",
       "    <tr>\n",
       "      <th>49996</th>\n",
       "      <td>1114111411149</td>\n",
       "      <td>1\" 1/4 lb socket</td>\n",
       "    </tr>\n",
       "    <tr>\n",
       "      <th>49997</th>\n",
       "      <td>669198229008</td>\n",
       "      <td>DVD YUKIKAZE</td>\n",
       "    </tr>\n",
       "    <tr>\n",
       "      <th>49998</th>\n",
       "      <td>4850000955</td>\n",
       "      <td>@TROPCAN 64OZ HEALTHY HEART</td>\n",
       "    </tr>\n",
       "    <tr>\n",
       "      <th>49999</th>\n",
       "      <td>706532974245</td>\n",
       "      <td>PET SELECT 1 ct PET SELECT DELUXE DOG CRATE</td>\n",
       "    </tr>\n",
       "  </tbody>\n",
       "</table>\n",
       "<p>50000 rows × 2 columns</p>\n",
       "</div>"
      ],
      "text/plain": [
       "                 ean                                               name\n",
       "0        83978804665         WEISER LOCK LA535 V3 K3 RH M VALENCIA LOCK\n",
       "1        84380960857  CHARLES JACQUIN ET CIE INC. 16 FL CHAMBORD RSP...\n",
       "2        84296402755          UAV CORPORATION DVD Ginger In The Morning\n",
       "3       681131928328                                             equate\n",
       "4        75992723725  WARNER BROS. RECORDS, INC. CD SINATRA, FRANK -...\n",
       "...              ...                                                ...\n",
       "49995   645512320408  RMM CORPORATION 99.99 Vector High Pressure Washer\n",
       "49996  1114111411149                                   1\" 1/4 lb socket\n",
       "49997   669198229008                                       DVD YUKIKAZE\n",
       "49998     4850000955                        @TROPCAN 64OZ HEALTHY HEART\n",
       "49999   706532974245        PET SELECT 1 ct PET SELECT DELUXE DOG CRATE\n",
       "\n",
       "[50000 rows x 2 columns]"
      ]
     },
     "execution_count": 13,
     "metadata": {},
     "output_type": "execute_result"
    }
   ],
   "source": [
    "dataframe"
   ]
  },
  {
   "cell_type": "markdown",
   "id": "1b46f469-fc10-4351-b02c-202945ffdf83",
   "metadata": {},
   "source": [
    "Vamos agora converter o dataset em uma lista de dicionários:"
   ]
  },
  {
   "cell_type": "code",
   "execution_count": 16,
   "id": "7eab95c7-6b76-4520-837f-553a9c2812b8",
   "metadata": {},
   "outputs": [],
   "source": [
    "list_of_dicts = dataframe.to_dict(orient=\"records\")"
   ]
  },
  {
   "cell_type": "markdown",
   "id": "56d64946-8289-4f6b-b486-9a0367624e04",
   "metadata": {},
   "source": [
    "A função `to_dict` tem várias possibilidades de converter um *dataframe* em dicionário. Para saber mais consulte [a documentaçao oficial(https://pandas.pydata.org/docs/reference/api/pandas.DataFrame.to_dict.html)"
   ]
  },
  {
   "cell_type": "code",
   "execution_count": 19,
   "id": "a3211f4f-0261-49fc-9cf2-94f10209d4f0",
   "metadata": {},
   "outputs": [
    {
     "data": {
      "text/plain": [
       "[{'ean': '83978804665', 'name': 'WEISER LOCK LA535 V3 K3 RH M VALENCIA LOCK'},\n",
       " {'ean': '84380960857',\n",
       "  'name': 'CHARLES JACQUIN ET CIE INC. 16 FL CHAMBORD RSPBRY CHOC TRFL'},\n",
       " {'ean': '84296402755', 'name': 'UAV CORPORATION DVD Ginger In The Morning'},\n",
       " {'ean': '681131928328', 'name': 'equate'},\n",
       " {'ean': '75992723725',\n",
       "  'name': 'WARNER BROS. RECORDS, INC. CD SINATRA, FRANK - GREATEST HITS VOL. 2'}]"
      ]
     },
     "execution_count": 19,
     "metadata": {},
     "output_type": "execute_result"
    }
   ],
   "source": [
    "list_of_dicts[:5] # Imprimindo só os 5 primeiros registros"
   ]
  },
  {
   "cell_type": "markdown",
   "id": "75719d23-9223-4410-9f11-5f3f113e3517",
   "metadata": {},
   "source": [
    "Para facilitar, pode usar esta função: "
   ]
  },
  {
   "cell_type": "code",
   "execution_count": 20,
   "id": "91fcfeea-e680-4aa9-ba2f-dd48744b4911",
   "metadata": {},
   "outputs": [],
   "source": [
    "def csv_to_dicts(csv_file, fields=(\"ean\", \"name\")):\n",
    "    data = pd.read_csv(csv_file)\n",
    "    df = data.loc[:, fields]\n",
    "    list_of_dicts = dataframe.to_dict(orient=\"records\")\n",
    "    return list_of_dicts"
   ]
  },
  {
   "cell_type": "markdown",
   "id": "9c699f02-245a-4f13-99be-266ad4d4d9e0",
   "metadata": {},
   "source": [
    "## Vamos importar de novo usando a função"
   ]
  },
  {
   "cell_type": "code",
   "execution_count": 21,
   "id": "e01e1e3b-4944-4d00-abb1-c79de56893da",
   "metadata": {},
   "outputs": [],
   "source": [
    "dicios = csv_to_dicts(\"produtos.csv\")"
   ]
  },
  {
   "cell_type": "code",
   "execution_count": 23,
   "id": "f1fe555d-18fe-46c7-87af-520d0c1dce5a",
   "metadata": {},
   "outputs": [
    {
     "name": "stdout",
     "output_type": "stream",
     "text": [
      "[{'ean': '83978804665', 'name': 'WEISER LOCK LA535 V3 K3 RH M VALENCIA LOCK'}, {'ean': '84380960857', 'name': 'CHARLES JACQUIN ET CIE INC. 16 FL CHAMBORD RSPBRY CHOC TRFL'}, {'ean': '84296402755', 'name': 'UAV CORPORATION DVD Ginger In The Morning'}, {'ean': '681131928328', 'name': 'equate'}, {'ean': '75992723725', 'name': 'WARNER BROS. RECORDS, INC. CD SINATRA, FRANK - GREATEST HITS VOL. 2'}, {'ean': '22891444497', 'name': 'GOVERNMENT ISSUE-LIVE 1985-FLIPSIDE (DVD)'}]\n"
     ]
    }
   ],
   "source": [
    "print(dicios[:6])"
   ]
  },
  {
   "cell_type": "code",
   "execution_count": null,
   "id": "a0d6dc18-696e-485c-8bb9-26d893041105",
   "metadata": {},
   "outputs": [],
   "source": []
  }
 ],
 "metadata": {
  "kernelspec": {
   "display_name": "Python 3 (ipykernel)",
   "language": "python",
   "name": "python3"
  },
  "language_info": {
   "codemirror_mode": {
    "name": "ipython",
    "version": 3
   },
   "file_extension": ".py",
   "mimetype": "text/x-python",
   "name": "python",
   "nbconvert_exporter": "python",
   "pygments_lexer": "ipython3",
   "version": "3.10.4"
  }
 },
 "nbformat": 4,
 "nbformat_minor": 5
}
